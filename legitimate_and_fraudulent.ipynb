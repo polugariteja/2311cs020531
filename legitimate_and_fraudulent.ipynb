{
  "nbformat": 4,
  "nbformat_minor": 0,
  "metadata": {
    "colab": {
      "provenance": [],
      "authorship_tag": "ABX9TyNu26cckP9vp0z0syYxLMXN",
      "include_colab_link": true
    },
    "kernelspec": {
      "name": "python3",
      "display_name": "Python 3"
    },
    "language_info": {
      "name": "python"
    }
  },
  "cells": [
    {
      "cell_type": "markdown",
      "metadata": {
        "id": "view-in-github",
        "colab_type": "text"
      },
      "source": [
        "<a href=\"https://colab.research.google.com/github/polugariteja/2311cs020531/blob/main/legitimate_and_fraudulent.ipynb\" target=\"_parent\"><img src=\"https://colab.research.google.com/assets/colab-badge.svg\" alt=\"Open In Colab\"/></a>"
      ]
    },
    {
      "cell_type": "code",
      "execution_count": null,
      "metadata": {
        "colab": {
          "base_uri": "https://localhost:8080/"
        },
        "id": "hgAfBHlxoN4T",
        "outputId": "d205cea1-6cf0-4862-e84c-04eec402252f"
      },
      "outputs": [
        {
          "output_type": "stream",
          "name": "stderr",
          "text": [
            "/usr/local/lib/python3.10/dist-packages/sklearn/linear_model/_logistic.py:465: ConvergenceWarning: lbfgs failed to converge (status=1):\n",
            "STOP: TOTAL NO. of ITERATIONS REACHED LIMIT.\n",
            "\n",
            "Increase the number of iterations (max_iter) or scale the data as shown in:\n",
            "    https://scikit-learn.org/stable/modules/preprocessing.html\n",
            "Please also refer to the documentation for alternative solver options:\n",
            "    https://scikit-learn.org/stable/modules/linear_model.html#logistic-regression\n",
            "  n_iter_i = _check_optimize_result(\n",
            "2025-01-05 08:43:10.577 WARNING streamlit.runtime.scriptrunner_utils.script_run_context: Thread 'MainThread': missing ScriptRunContext! This warning can be ignored when running in bare mode.\n",
            "2025-01-05 08:43:10.706 \n",
            "  \u001b[33m\u001b[1mWarning:\u001b[0m to view this Streamlit app on a browser, run it with the following\n",
            "  command:\n",
            "\n",
            "    streamlit run /usr/local/lib/python3.10/dist-packages/colab_kernel_launcher.py [ARGUMENTS]\n",
            "2025-01-05 08:43:10.711 Thread 'MainThread': missing ScriptRunContext! This warning can be ignored when running in bare mode.\n",
            "2025-01-05 08:43:10.714 Thread 'MainThread': missing ScriptRunContext! This warning can be ignored when running in bare mode.\n",
            "2025-01-05 08:43:10.717 Thread 'MainThread': missing ScriptRunContext! This warning can be ignored when running in bare mode.\n",
            "2025-01-05 08:43:10.719 Thread 'MainThread': missing ScriptRunContext! This warning can be ignored when running in bare mode.\n",
            "2025-01-05 08:43:10.721 Thread 'MainThread': missing ScriptRunContext! This warning can be ignored when running in bare mode.\n",
            "2025-01-05 08:43:10.723 Thread 'MainThread': missing ScriptRunContext! This warning can be ignored when running in bare mode.\n",
            "2025-01-05 08:43:10.729 Thread 'MainThread': missing ScriptRunContext! This warning can be ignored when running in bare mode.\n",
            "2025-01-05 08:43:10.730 Thread 'MainThread': missing ScriptRunContext! This warning can be ignored when running in bare mode.\n",
            "2025-01-05 08:43:10.735 Thread 'MainThread': missing ScriptRunContext! This warning can be ignored when running in bare mode.\n",
            "2025-01-05 08:43:10.737 Session state does not function when running a script without `streamlit run`\n",
            "2025-01-05 08:43:10.740 Thread 'MainThread': missing ScriptRunContext! This warning can be ignored when running in bare mode.\n",
            "2025-01-05 08:43:10.742 Thread 'MainThread': missing ScriptRunContext! This warning can be ignored when running in bare mode.\n",
            "2025-01-05 08:43:10.743 Thread 'MainThread': missing ScriptRunContext! This warning can be ignored when running in bare mode.\n",
            "2025-01-05 08:43:10.745 Thread 'MainThread': missing ScriptRunContext! This warning can be ignored when running in bare mode.\n",
            "2025-01-05 08:43:10.747 Thread 'MainThread': missing ScriptRunContext! This warning can be ignored when running in bare mode.\n",
            "2025-01-05 08:43:10.748 Thread 'MainThread': missing ScriptRunContext! This warning can be ignored when running in bare mode.\n",
            "2025-01-05 08:43:10.750 Thread 'MainThread': missing ScriptRunContext! This warning can be ignored when running in bare mode.\n"
          ]
        }
      ],
      "source": [
        "import numpy as np\n",
        "import pandas as pd\n",
        "from sklearn.model_selection import train_test_split\n",
        "from sklearn.linear_model import LogisticRegression\n",
        "from sklearn.metrics import accuracy_score\n",
        "import streamlit as st\n",
        "\n",
        "# load data\n",
        "data = pd.read_csv('creditcard.csv')\n",
        "\n",
        "# separate legitimate and fraudulent transactions\n",
        "legit = data[data.Class == 0]\n",
        "fraud = data[data.Class == 1]\n",
        "\n",
        "# undersample legitimate transactions to balance the classes\n",
        "legit_sample = legit.sample(n=len(fraud), random_state=2)\n",
        "data = pd.concat([legit_sample, fraud], axis=0)\n",
        "\n",
        "# split data into training and testing sets\n",
        "X = data.drop(columns=\"Class\", axis=1)\n",
        "y = data[\"Class\"]\n",
        "X_train, X_test, y_train, y_test = train_test_split(X, y, test_size=0.2, stratify=y, random_state=2)\n",
        "\n",
        "# train logistic regression model\n",
        "model = LogisticRegression()\n",
        "model.fit(X_train, y_train)\n",
        "\n",
        "# evaluate model performance\n",
        "train_acc = accuracy_score(model.predict(X_train), y_train)\n",
        "test_acc = accuracy_score(model.predict(X_test), y_test)\n",
        "\n",
        "# create Streamlit app\n",
        "st.title(\"Credit Card Fraud Detection Model\")\n",
        "st.write(\"Enter the following features to check if the transaction is legitimate or fraudulent:\")\n",
        "\n",
        "# create input fields for user to enter feature values\n",
        "input_df = st.text_input('Input All features')\n",
        "input_df_lst = input_df.split(',')\n",
        "# create a button to submit input and get prediction\n",
        "submit = st.button(\"Submit\")\n",
        "\n",
        "if submit:\n",
        "    # get input feature values\n",
        "    features = np.array(input_df_lst, dtype=np.float64)\n",
        "    # make prediction\n",
        "    prediction = model.predict(features.reshape(1,-1))\n",
        "    # display result\n",
        "    if prediction[0] == 0:\n",
        "        st.write(\"Legitimate transaction\")\n",
        "    else:\n",
        "        st.write(\"Fraudulent transaction\")"
      ]
    },
    {
      "cell_type": "code",
      "source": [],
      "metadata": {
        "id": "ABqsujCFobtH"
      },
      "execution_count": null,
      "outputs": []
    }
  ]
}