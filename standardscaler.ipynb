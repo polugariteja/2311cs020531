{
  "nbformat": 4,
  "nbformat_minor": 0,
  "metadata": {
    "colab": {
      "provenance": [],
      "authorship_tag": "ABX9TyMAUNEFmavvVM1aTgPLOTkm",
      "include_colab_link": true
    },
    "kernelspec": {
      "name": "python3",
      "display_name": "Python 3"
    },
    "language_info": {
      "name": "python"
    }
  },
  "cells": [
    {
      "cell_type": "markdown",
      "metadata": {
        "id": "view-in-github",
        "colab_type": "text"
      },
      "source": [
        "<a href=\"https://colab.research.google.com/github/polugariteja/2311cs020531/blob/main/standardscaler.ipynb\" target=\"_parent\"><img src=\"https://colab.research.google.com/assets/colab-badge.svg\" alt=\"Open In Colab\"/></a>"
      ]
    },
    {
      "cell_type": "code",
      "execution_count": 1,
      "metadata": {
        "id": "8RnHuJ_pqHH_",
        "outputId": "eda089f5-1d55-4960-8f0a-8acb003fb590",
        "colab": {
          "base_uri": "https://localhost:8080/"
        }
      },
      "outputs": [
        {
          "output_type": "stream",
          "name": "stdout",
          "text": [
            "   age  height  weight\n",
            "0   20     150      50\n",
            "1   30     160      60\n",
            "2   35     170      70\n",
            "3   40     180      80\n",
            "4   45     190      90\n",
            "   age  height  weight\n",
            "0   20     150      50\n",
            "1   30     160      60\n",
            "2   35     170      70\n",
            "3   40     180      80\n",
            "4   45     190      90\n",
            "Original DataFrame:\n",
            "   age  height  weight\n",
            "0   20     150      50\n",
            "1   30     160      60\n",
            "2   35     170      70\n",
            "3   40     180      80\n",
            "4   45     190      90\n",
            "\n",
            "Normalized DataFrame:\n",
            "        age    height    weight\n",
            "0 -1.627467 -1.414214 -1.414214\n",
            "1 -0.464991 -0.707107 -0.707107\n",
            "2  0.116248  0.000000  0.000000\n",
            "3  0.697486  0.707107  0.707107\n",
            "4  1.278724  1.414214  1.414214\n"
          ]
        }
      ],
      "source": [
        "import pandas as pd\n",
        "from sklearn.preprocessing import StandardScaler\n",
        "data={\n",
        "    \"age\":[20, 30, 35, 40, 45],\n",
        "    \"height\":[150, 160, 170, 180, 190],\n",
        "    \"weight\":[50, 60, 70, 80, 90]\n",
        "}\n",
        "df=pd.DataFrame(data)\n",
        "scaler=StandardScaler()\n",
        "scaled_data=scaler.fit_transform(df)\n",
        "scaled_df=pd.DataFrame(scaled_data,columns=df.columns)\n",
        "print(df)\n",
        "scaler = StandardScaler()\n",
        "scaled_data = scaler.fit_transform(df)\n",
        "scaled_df = pd.DataFrame(scaled_data, columns=df.columns)\n",
        "print(df)\n",
        "print(\"Original DataFrame:\")\n",
        "print(df)\n",
        "scaler = StandardScaler()\n",
        "normalized_data = scaler.fit_transform(df)\n",
        "normalized_df = pd.DataFrame(normalized_data, columns=df.columns)\n",
        "print(\"\\nNormalized DataFrame:\")\n",
        "print(normalized_df)"
      ]
    },
    {
      "cell_type": "code",
      "source": [],
      "metadata": {
        "id": "6uXsVmPDqQBL"
      },
      "execution_count": null,
      "outputs": []
    }
  ]
}